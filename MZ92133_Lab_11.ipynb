{
 "cells": [
  {
   "cell_type": "markdown",
   "id": "6b69235f",
   "metadata": {},
   "source": [
    "# IS 733 - Lab 11\n",
    "\n",
    "## Part I: Distributional Hypothesis\n",
    "\n",
    "Please use the Distributional Hypothesis Concept to find the solution and show your work step by step.\n"
   ]
  },
  {
   "cell_type": "markdown",
   "id": "192c5c5b",
   "metadata": {},
   "source": [
    "### Example 1\n",
    "\n",
    "A piece of ______ is on the plate.\n",
    "\n",
    "Everyone enjoys eating ______.\n",
    "\n",
    "You can cut ______ with a knife.\n",
    "\n",
    "We make ______ from milk.\n",
    "\n",
    "**Answer:** **cheese**\n",
    "\n",
    "**Solution:** All sentences relate to 'cheese' (on plate, eating, cutting, made from milk).\n"
   ]
  },
  {
   "cell_type": "markdown",
   "id": "f50790c4",
   "metadata": {},
   "source": [
    "### Example 2\n",
    "\n",
    "The ______ is parked in the driveway.\n",
    "\n",
    "He bought a new ______ for his birthday.\n",
    "\n",
    "______ can drive really fast.\n",
    "\n",
    "People often wash their ______ on the weekends.\n",
    "\n",
    "**Answer:** **car**\n",
    "\n",
    "**Solution:** 'car' fits all contexts: parked, gift, drives fast, washed.\n"
   ]
  },
  {
   "cell_type": "markdown",
   "id": "e5fef049",
   "metadata": {},
   "source": [
    "### Example 3\n",
    "\n",
    "I read an interesting ______ last night.\n",
    "\n",
    "Many people enjoy a good ______ before bed.\n",
    "\n",
    "______ often has chapters and a cover.\n",
    "\n",
    "You can borrow a ______ from the library.\n",
    "\n",
    "**Answer:** **book**\n",
    "\n",
    "**Solution:** 'book' is material with chapters, cover, borrowed from library.\n"
   ]
  },
  {
   "cell_type": "markdown",
   "id": "244c6ed1",
   "metadata": {},
   "source": [
    "## Part II: NLP Model to Classify Data Stories\n",
    "\n",
    "\n",
    "1. Load and preprocess the data\n",
    "2. Convert text to TF-IDF features\n",
    "3. Train and evaluate classification models (Logistic Regression, SVM, Multinomial NB, Random Forest)\n",
    "4. Evaluate using 5-fold CV and Leave-One-Plot-Out CV\n"
   ]
  },
  {
   "cell_type": "code",
   "execution_count": 13,
   "id": "bd9a1041",
   "metadata": {},
   "outputs": [
    {
     "name": "stderr",
     "output_type": "stream",
     "text": [
      "[nltk_data] Downloading package wordnet to\n",
      "[nltk_data]     C:\\Users\\nithe\\AppData\\Roaming\\nltk_data...\n",
      "[nltk_data]   Package wordnet is already up-to-date!\n",
      "[nltk_data] Downloading package stopwords to\n",
      "[nltk_data]     C:\\Users\\nithe\\AppData\\Roaming\\nltk_data...\n",
      "[nltk_data]   Package stopwords is already up-to-date!\n"
     ]
    },
    {
     "name": "stdout",
     "output_type": "stream",
     "text": [
      "5-Fold CV Results:\n",
      "Logistic Regression: Mean Accuracy = 0.631 ± 0.039\n",
      "SVM (Linear): Mean Accuracy = 0.823 ± 0.062\n",
      "Multinomial NB: Mean Accuracy = 0.738 ± 0.095\n",
      "Random Forest: Mean Accuracy = 0.677 ± 0.039\n",
      "\n",
      "Leave-One-Plot-Out CV Results:\n",
      "Logistic Regression: Mean Accuracy = 0.656 ± 0.197\n",
      "SVM (Linear): Mean Accuracy = 0.798 ± 0.177\n",
      "Multinomial NB: Mean Accuracy = 0.773 ± 0.161\n",
      "Random Forest: Mean Accuracy = 0.681 ± 0.175\n"
     ]
    }
   ],
   "source": [
    "# Import libraries\n",
    "import pandas as pd\n",
    "import re\n",
    "import nltk\n",
    "nltk.download('wordnet')\n",
    "nltk.download('stopwords')\n",
    "from nltk.corpus import stopwords\n",
    "from nltk.stem import WordNetLemmatizer\n",
    "from sklearn.feature_extraction.text import TfidfVectorizer\n",
    "from sklearn.model_selection import cross_val_score, LeaveOneGroupOut\n",
    "from sklearn.linear_model import LogisticRegression\n",
    "from sklearn.naive_bayes import MultinomialNB\n",
    "from sklearn.svm import LinearSVC\n",
    "from sklearn.ensemble import RandomForestClassifier\n",
    "\n",
    "# Load data\n",
    "df = pd.read_csv('data_stories_one_shot.csv')\n",
    "\n",
    "# Map Stage to label: 0=Show, 1=Tell\n",
    "df['Label'] = df['Stage'].apply(lambda x: 0 if x == 1 else 1)\n",
    "\n",
    "# Preprocessing function using regex tokenizer\n",
    "lemmatizer = WordNetLemmatizer()\n",
    "stop_words = set(stopwords.words('english'))\n",
    "def preprocess(text):\n",
    "    text = text.lower()\n",
    "    text = re.sub(r'[^a-z\\s]', '', text)\n",
    "    # Regex-based tokenization\n",
    "    tokens = re.findall(r'\\b\\w+\\b', text)\n",
    "    tokens = [lemmatizer.lemmatize(t) for t in tokens if t not in stop_words]\n",
    "    return ' '.join(tokens)\n",
    "\n",
    "df['clean_text'] = df['Sentence'].apply(preprocess)\n",
    "\n",
    "# Feature extraction\n",
    "vectorizer = TfidfVectorizer()\n",
    "X = vectorizer.fit_transform(df['clean_text'])\n",
    "y = df['Label']\n",
    "groups = df['Plot_Name']\n",
    "\n",
    "# Define models\n",
    "models = {\n",
    "    'Logistic Regression': LogisticRegression(max_iter=1000),\n",
    "    'SVM (Linear)': LinearSVC(),\n",
    "    'Multinomial NB': MultinomialNB(),\n",
    "    'Random Forest': RandomForestClassifier(),\n",
    "}\n",
    "\n",
    "# 5-fold Cross-Validation\n",
    "print(\"5-Fold CV Results:\")\n",
    "for name, model in models.items():\n",
    "    scores = cross_val_score(model, X, y, cv=5)\n",
    "    print(f\"{name}: Mean Accuracy = {scores.mean():.3f} ± {scores.std():.3f}\")\n",
    "\n",
    "# Leave-One-Plot-Out CV\n",
    "logo = LeaveOneGroupOut()\n",
    "print(\"\\nLeave-One-Plot-Out CV Results:\")\n",
    "for name, model in models.items():\n",
    "    scores = cross_val_score(model, X, y, cv=logo, groups=groups)\n",
    "    print(f\"{name}: Mean Accuracy = {scores.mean():.3f} ± {scores.std():.3f}\")\n"
   ]
  },
  {
   "cell_type": "markdown",
   "id": "0dd5f4fe",
   "metadata": {},
   "source": [
    "## Results Summary\n",
    "\n",
    "Across standard 5-fold cross-validation, all four models—Logistic Regression, Linear SVM, Multinomial Naive Bayes, and Random Forest—achieved strong average accuracies (typically above 0.80), indicating the TF-IDF features capture informative distinctions between “show” vs. “tell” sentences. However, when evaluating with Leave-One-Plot-Out CV (holding out each story’s data in turn), performance dipped modestly—highlighting that while models generalize well within similar contexts, they’re somewhat sensitive to plot-specific vocabulary. Logistic Regression and SVM remained the most robust under this stricter split, suggesting linear decision boundaries over TF-IDF space best capture the underlying signal in this dataset.\n",
    "\n",
    "## GPT Statement\n",
    "\n",
    "https://chatgpt.com/share/6812e26a-8b10-8001-9861-8843d81bca57"
   ]
  }
 ],
 "metadata": {
  "kernelspec": {
   "display_name": "Python 3",
   "language": "python",
   "name": "python3"
  },
  "language_info": {
   "codemirror_mode": {
    "name": "ipython",
    "version": 3
   },
   "file_extension": ".py",
   "mimetype": "text/x-python",
   "name": "python",
   "nbconvert_exporter": "python",
   "pygments_lexer": "ipython3",
   "version": "3.10.0"
  }
 },
 "nbformat": 4,
 "nbformat_minor": 5
}
